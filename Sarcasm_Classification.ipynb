{
  "nbformat": 4,
  "nbformat_minor": 0,
  "metadata": {
    "colab": {
      "name": "Sarcasm_Classification.ipynb",
      "version": "0.3.2",
      "provenance": [],
      "collapsed_sections": []
    },
    "kernelspec": {
      "name": "python3",
      "display_name": "Python 3"
    }
  },
  "cells": [
    {
      "cell_type": "markdown",
      "metadata": {
        "id": "gEQGfJJhQTp6",
        "colab_type": "text"
      },
      "source": [
        "# TEXT CLASSIFICATION"
      ]
    },
    {
      "cell_type": "markdown",
      "metadata": {
        "id": "ydVfBGVdQcJD",
        "colab_type": "text"
      },
      "source": [
        "This project tries to classify the text as positive or negative . \n",
        "The data set used is the sarcasm dataset . The dataset is present in the below format:\n",
        "\n",
        "*   headline: text\n",
        "*   is_sarcastic: label ( 0 or 1)\n",
        "*   url: the url from where the article is retrieved\n",
        "\n",
        "\n",
        "We shall use LSTM architecture to classify the sarcastic dataset. \n",
        "Lets use a pre-built embedding from the Glove Stanford embedding matrix\n",
        "\n",
        "\n"
      ]
    },
    {
      "cell_type": "code",
      "metadata": {
        "id": "eMRN5CdhD11r",
        "colab_type": "code",
        "colab": {
          "base_uri": "https://localhost:8080/",
          "height": 34
        },
        "outputId": "b43162f4-c359-4a95-a026-5048a97c05c0"
      },
      "source": [
        "import tensorflow as tf\n",
        "print (tf.__version__)\n"
      ],
      "execution_count": 2,
      "outputs": [
        {
          "output_type": "stream",
          "text": [
            "1.14.0\n"
          ],
          "name": "stdout"
        }
      ]
    },
    {
      "cell_type": "code",
      "metadata": {
        "id": "WJKeSmbjFugf",
        "colab_type": "code",
        "colab": {}
      },
      "source": [
        "!pip install tensorflow==2.0.0-beta1 "
      ],
      "execution_count": 0,
      "outputs": []
    },
    {
      "cell_type": "code",
      "metadata": {
        "id": "Io84GKyBGCHS",
        "colab_type": "code",
        "colab": {
          "base_uri": "https://localhost:8080/",
          "height": 34
        },
        "outputId": "3cc4b280-6836-45a1-fe12-fa2331d724f4"
      },
      "source": [
        "import tensorflow as tf\n",
        "print (tf.__version__)\n"
      ],
      "execution_count": 1,
      "outputs": [
        {
          "output_type": "stream",
          "text": [
            "2.0.0-beta1\n"
          ],
          "name": "stdout"
        }
      ]
    },
    {
      "cell_type": "code",
      "metadata": {
        "id": "ye9oceYTEEjV",
        "colab_type": "code",
        "colab": {}
      },
      "source": [
        "import json\n",
        "import tensorflow as tf\n",
        "import random\n",
        "import numpy as np\n",
        "\n",
        "from tensorflow.keras.preprocessing.text import Tokenizer\n",
        "from tensorflow.keras.preprocessing.sequence import pad_sequences\n",
        "from tensorflow.keras.utils import to_categorical\n",
        "from tensorflow.keras import regularizers"
      ],
      "execution_count": 0,
      "outputs": []
    },
    {
      "cell_type": "code",
      "metadata": {
        "id": "r3JoLGzlEoRP",
        "colab_type": "code",
        "colab": {
          "base_uri": "https://localhost:8080/",
          "height": 204
        },
        "outputId": "05fc6972-1bc5-4fff-ee7d-cd8bf03ecdda"
      },
      "source": [
        "!wget --no-check-certificate \\\n",
        "   https://storage.googleapis.com/laurencemoroney-blog.appspot.com/sarcasm.json \\\n",
        "   -O /tmp/sarcasm.json"
      ],
      "execution_count": 1,
      "outputs": [
        {
          "output_type": "stream",
          "text": [
            "--2019-07-29 09:36:07--  https://storage.googleapis.com/laurencemoroney-blog.appspot.com/sarcasm.json\n",
            "Resolving storage.googleapis.com (storage.googleapis.com)... 74.125.199.128, 2607:f8b0:400e:c03::80\n",
            "Connecting to storage.googleapis.com (storage.googleapis.com)|74.125.199.128|:443... connected.\n",
            "HTTP request sent, awaiting response... 200 OK\n",
            "Length: 5643545 (5.4M) [application/json]\n",
            "Saving to: ‘/tmp/sarcasm.json’\n",
            "\n",
            "\r/tmp/sarcasm.json     0%[                    ]       0  --.-KB/s               \r/tmp/sarcasm.json   100%[===================>]   5.38M  --.-KB/s    in 0.03s   \n",
            "\n",
            "2019-07-29 09:36:07 (176 MB/s) - ‘/tmp/sarcasm.json’ saved [5643545/5643545]\n",
            "\n"
          ],
          "name": "stdout"
        }
      ]
    },
    {
      "cell_type": "code",
      "metadata": {
        "id": "tt5HcKfjGopb",
        "colab_type": "code",
        "colab": {}
      },
      "source": [
        "import json\n",
        "import numpy as np\n",
        "\n",
        "from tensorflow.keras.preprocessing.text import Tokenizer\n",
        "from tensorflow.keras.preprocessing.sequence import pad_sequences\n"
      ],
      "execution_count": 0,
      "outputs": []
    },
    {
      "cell_type": "code",
      "metadata": {
        "id": "sjiCCkjTGPOg",
        "colab_type": "code",
        "colab": {}
      },
      "source": [
        "with open('/tmp/sarcasm.json') as f:\n",
        "    datastore =  json.load(f)"
      ],
      "execution_count": 0,
      "outputs": []
    },
    {
      "cell_type": "code",
      "metadata": {
        "id": "vUzFftODG1Km",
        "colab_type": "code",
        "colab": {
          "base_uri": "https://localhost:8080/",
          "height": 34
        },
        "outputId": "9012639d-f409-4a9f-c41b-e1bf04177b0e"
      },
      "source": [
        "len(datastore)"
      ],
      "execution_count": 5,
      "outputs": [
        {
          "output_type": "execute_result",
          "data": {
            "text/plain": [
              "26709"
            ]
          },
          "metadata": {
            "tags": []
          },
          "execution_count": 5
        }
      ]
    },
    {
      "cell_type": "markdown",
      "metadata": {
        "id": "NscFDhu3SCW6",
        "colab_type": "text"
      },
      "source": [
        "There are around 26K sentences to classify. Lets use 20K for training and the remaining for validation"
      ]
    },
    {
      "cell_type": "code",
      "metadata": {
        "id": "9Eg6BWMHG49A",
        "colab_type": "code",
        "colab": {}
      },
      "source": [
        "sentences = []\n",
        "labels    = []\n",
        "\n",
        "for item in datastore:\n",
        "    sentences.append(item['headline'])\n",
        "    labels.append(item['is_sarcastic'])"
      ],
      "execution_count": 0,
      "outputs": []
    },
    {
      "cell_type": "code",
      "metadata": {
        "id": "5Pycj_qQHruk",
        "colab_type": "code",
        "colab": {
          "base_uri": "https://localhost:8080/",
          "height": 51
        },
        "outputId": "a6cc286d-c716-46c0-c314-a98c649ab6ac"
      },
      "source": [
        "print(len(sentences), len(labels))\n",
        "print(sentences[15000], labels[15000])"
      ],
      "execution_count": 16,
      "outputs": [
        {
          "output_type": "stream",
          "text": [
            "26709 26709\n",
            "5 important questions to ask about your audience before your next presentation 0\n"
          ],
          "name": "stdout"
        }
      ]
    },
    {
      "cell_type": "code",
      "metadata": {
        "id": "YyQYG0mDEUkt",
        "colab_type": "code",
        "colab": {}
      },
      "source": [
        "embedding_dim = 100\n",
        "max_length = 32\n",
        "trunc_type='post'\n",
        "padding_type='post'\n",
        "oov_tok = \"<OOV>\"\n",
        "training_size=20000"
      ],
      "execution_count": 0,
      "outputs": []
    },
    {
      "cell_type": "code",
      "metadata": {
        "id": "Muw4gq3_IXmY",
        "colab_type": "code",
        "colab": {
          "base_uri": "https://localhost:8080/",
          "height": 34
        },
        "outputId": "14e7726d-0e26-4035-88fe-7e832ae8b334"
      },
      "source": [
        "tokenizer = Tokenizer()\n",
        "tokenizer.fit_on_texts(sentences)\n",
        "word_index = tokenizer.word_index\n",
        "vocab_size = len(word_index)\n",
        "print(vocab_size)\n",
        "\n",
        "sequences = tokenizer.texts_to_sequences(sentences)\n",
        "padded = pad_sequences(sequences, maxlen=max_length, padding=padding_type, truncating=trunc_type)\n",
        "\n",
        "training_sequences = padded[:training_size]\n",
        "training_labels = labels[:training_size]\n",
        "test_sequences = padded[training_size:]\n",
        "test_labels = labels[training_size:]\n",
        "\n",
        "\n"
      ],
      "execution_count": 21,
      "outputs": [
        {
          "output_type": "stream",
          "text": [
            "29656\n"
          ],
          "name": "stdout"
        }
      ]
    },
    {
      "cell_type": "code",
      "metadata": {
        "id": "3T48cehXLLlt",
        "colab_type": "code",
        "colab": {
          "base_uri": "https://localhost:8080/",
          "height": 51
        },
        "outputId": "d3240468-823c-462b-8bdc-ce5cdd4e593c"
      },
      "source": [
        "print(vocab_size)\n",
        "print(word_index['i'])\n"
      ],
      "execution_count": 22,
      "outputs": [
        {
          "output_type": "stream",
          "text": [
            "29656\n",
            "79\n"
          ],
          "name": "stdout"
        }
      ]
    },
    {
      "cell_type": "code",
      "metadata": {
        "id": "0Aj0zC7FLM2k",
        "colab_type": "code",
        "colab": {
          "base_uri": "https://localhost:8080/",
          "height": 204
        },
        "outputId": "24535a6e-874f-4415-88a3-9eee15edbf58"
      },
      "source": [
        "# Note this is the 100 dimension version of GloVe from Stanford\n",
        "\n",
        "!wget --no-check-certificate \\\n",
        "    https://storage.googleapis.com/laurencemoroney-blog.appspot.com/glove.6B.100d.txt \\\n",
        "    -O /tmp/glove.6B.100d.txt\n",
        "embeddings_index = {};\n",
        "with open('/tmp/glove.6B.100d.txt') as f:\n",
        "    for line in f:\n",
        "        values = line.split();\n",
        "        word = values[0];\n",
        "        coefs = np.asarray(values[1:], dtype='float32');\n",
        "        embeddings_index[word] = coefs;\n",
        "\n",
        "embeddings_matrix = np.zeros((vocab_size+1, embedding_dim));\n",
        "for word, i in word_index.items():\n",
        "    embedding_vector = embeddings_index.get(word);\n",
        "    if embedding_vector is not None:\n",
        "        embeddings_matrix[i] = embedding_vector;"
      ],
      "execution_count": 23,
      "outputs": [
        {
          "output_type": "stream",
          "text": [
            "--2019-07-29 10:04:10--  https://storage.googleapis.com/laurencemoroney-blog.appspot.com/glove.6B.100d.txt\n",
            "Resolving storage.googleapis.com (storage.googleapis.com)... 74.125.195.128, 2607:f8b0:400e:c09::80\n",
            "Connecting to storage.googleapis.com (storage.googleapis.com)|74.125.195.128|:443... connected.\n",
            "HTTP request sent, awaiting response... 200 OK\n",
            "Length: 347116733 (331M) [text/plain]\n",
            "Saving to: ‘/tmp/glove.6B.100d.txt’\n",
            "\n",
            "/tmp/glove.6B.100d. 100%[===================>] 331.04M   108MB/s    in 3.1s    \n",
            "\n",
            "2019-07-29 10:04:13 (108 MB/s) - ‘/tmp/glove.6B.100d.txt’ saved [347116733/347116733]\n",
            "\n"
          ],
          "name": "stdout"
        }
      ]
    },
    {
      "cell_type": "code",
      "metadata": {
        "id": "JiDY1snALiQp",
        "colab_type": "code",
        "colab": {
          "base_uri": "https://localhost:8080/",
          "height": 34
        },
        "outputId": "ec830a4d-ce8b-4400-887f-8ee87f37e430"
      },
      "source": [
        "print(len(embeddings_matrix))"
      ],
      "execution_count": 24,
      "outputs": [
        {
          "output_type": "stream",
          "text": [
            "29657\n"
          ],
          "name": "stdout"
        }
      ]
    },
    {
      "cell_type": "code",
      "metadata": {
        "id": "a98xQpkDMISG",
        "colab_type": "code",
        "colab": {}
      },
      "source": [
        "import matplotlib.pyplot as plt\n",
        "\n",
        "def plot_metrics(history):\n",
        "    #-----------------------------------------------------------\n",
        "    # Retrieve a list of list results on training and test data\n",
        "    # sets for each training epoch\n",
        "    #-----------------------------------------------------------\n",
        "    acc=history.history['accuracy']\n",
        "    val_acc=history.history['val_accuracy']\n",
        "    loss=history.history['loss']\n",
        "    val_loss=history.history['val_loss']\n",
        "\n",
        "    epochs=range(len(acc)) # Get number of epochs\n",
        "\n",
        "    #------------------------------------------------\n",
        "    # Plot training and validation accuracy per epoch\n",
        "    #------------------------------------------------\n",
        "    plt.plot(epochs, acc, 'r')\n",
        "    plt.plot(epochs, val_acc, 'b')\n",
        "    plt.title('Training and validation accuracy')\n",
        "    plt.xlabel(\"Epochs\")\n",
        "    plt.ylabel(\"Accuracy\")\n",
        "    plt.legend([\"Accuracy\", \"Validation Accuracy\"])\n",
        "    plt.figure()\n",
        "\n",
        "    #------------------------------------------------\n",
        "    # Plot training and validation loss per epoch\n",
        "    #------------------------------------------------\n",
        "    plt.plot(epochs, loss, 'r')\n",
        "    plt.plot(epochs, val_loss, 'b')\n",
        "    plt.title('Training and validation loss')\n",
        "    plt.xlabel(\"Epochs\")\n",
        "    plt.ylabel(\"Loss\")\n",
        "    plt.legend([\"Loss\", \"Validation Loss\"])\n",
        "    plt.figure()\n",
        "\n",
        "    \n",
        "    \n"
      ],
      "execution_count": 0,
      "outputs": []
    },
    {
      "cell_type": "code",
      "metadata": {
        "id": "m6hU6MGyT4eE",
        "colab_type": "code",
        "colab": {
          "base_uri": "https://localhost:8080/",
          "height": 1000
        },
        "outputId": "14704f26-78ed-4d0a-f947-f85dd7916471"
      },
      "source": [
        "model = tf.keras.Sequential([\n",
        "    tf.keras.layers.Embedding(vocab_size+1, embedding_dim, input_length=max_length, weights=[embeddings_matrix], trainable=False),\n",
        "    tf.keras.layers.Dropout(0.2),\n",
        "    tf.keras.layers.Bidirectional(tf.keras.layers.LSTM(64)),\n",
        "    tf.keras.layers.Dropout(0.2),                              \n",
        "    tf.keras.layers.Dense(1, activation='sigmoid')\n",
        "])\n",
        "model.compile(loss='binary_crossentropy',optimizer='adam',metrics=['accuracy'])\n",
        "model.summary()\n",
        "\n",
        "num_epochs = 30\n",
        "history = model.fit(training_sequences, training_labels, epochs=num_epochs, validation_data=(test_sequences, test_labels), verbose=2)\n",
        "\n",
        "print(\"Training Complete\")"
      ],
      "execution_count": 28,
      "outputs": [
        {
          "output_type": "stream",
          "text": [
            "Model: \"sequential_1\"\n",
            "_________________________________________________________________\n",
            "Layer (type)                 Output Shape              Param #   \n",
            "=================================================================\n",
            "embedding_1 (Embedding)      (None, 32, 100)           2965700   \n",
            "_________________________________________________________________\n",
            "dropout_1 (Dropout)          (None, 32, 100)           0         \n",
            "_________________________________________________________________\n",
            "bidirectional (Bidirectional (None, 128)               84480     \n",
            "_________________________________________________________________\n",
            "dropout_2 (Dropout)          (None, 128)               0         \n",
            "_________________________________________________________________\n",
            "dense_1 (Dense)              (None, 1)                 129       \n",
            "=================================================================\n",
            "Total params: 3,050,309\n",
            "Trainable params: 84,609\n",
            "Non-trainable params: 2,965,700\n",
            "_________________________________________________________________\n",
            "Train on 20000 samples, validate on 6709 samples\n",
            "Epoch 1/30\n",
            "20000/20000 - 32s - loss: 0.4984 - accuracy: 0.7574 - val_loss: 0.3993 - val_accuracy: 0.8137\n",
            "Epoch 2/30\n",
            "20000/20000 - 31s - loss: 0.3863 - accuracy: 0.8255 - val_loss: 0.3517 - val_accuracy: 0.8423\n",
            "Epoch 3/30\n",
            "20000/20000 - 31s - loss: 0.3403 - accuracy: 0.8507 - val_loss: 0.3203 - val_accuracy: 0.8621\n",
            "Epoch 4/30\n",
            "20000/20000 - 31s - loss: 0.3031 - accuracy: 0.8698 - val_loss: 0.3085 - val_accuracy: 0.8681\n",
            "Epoch 5/30\n",
            "20000/20000 - 30s - loss: 0.2811 - accuracy: 0.8777 - val_loss: 0.3064 - val_accuracy: 0.8667\n",
            "Epoch 6/30\n",
            "20000/20000 - 30s - loss: 0.2564 - accuracy: 0.8945 - val_loss: 0.3511 - val_accuracy: 0.8486\n",
            "Epoch 7/30\n",
            "20000/20000 - 30s - loss: 0.2390 - accuracy: 0.9014 - val_loss: 0.2980 - val_accuracy: 0.8685\n",
            "Epoch 8/30\n",
            "20000/20000 - 30s - loss: 0.2211 - accuracy: 0.9082 - val_loss: 0.3625 - val_accuracy: 0.8480\n",
            "Epoch 9/30\n",
            "20000/20000 - 30s - loss: 0.2022 - accuracy: 0.9166 - val_loss: 0.3087 - val_accuracy: 0.8709\n",
            "Epoch 10/30\n",
            "20000/20000 - 30s - loss: 0.1875 - accuracy: 0.9226 - val_loss: 0.3254 - val_accuracy: 0.8709\n",
            "Epoch 11/30\n",
            "20000/20000 - 30s - loss: 0.1761 - accuracy: 0.9298 - val_loss: 0.3204 - val_accuracy: 0.8732\n",
            "Epoch 12/30\n",
            "20000/20000 - 31s - loss: 0.1608 - accuracy: 0.9355 - val_loss: 0.3202 - val_accuracy: 0.8735\n",
            "Epoch 13/30\n",
            "20000/20000 - 32s - loss: 0.1484 - accuracy: 0.9406 - val_loss: 0.3511 - val_accuracy: 0.8773\n",
            "Epoch 14/30\n",
            "20000/20000 - 32s - loss: 0.1453 - accuracy: 0.9424 - val_loss: 0.3401 - val_accuracy: 0.8793\n",
            "Epoch 15/30\n",
            "20000/20000 - 32s - loss: 0.1324 - accuracy: 0.9482 - val_loss: 0.3323 - val_accuracy: 0.8711\n",
            "Epoch 16/30\n",
            "20000/20000 - 32s - loss: 0.1214 - accuracy: 0.9524 - val_loss: 0.3856 - val_accuracy: 0.8745\n",
            "Epoch 17/30\n",
            "20000/20000 - 32s - loss: 0.1144 - accuracy: 0.9554 - val_loss: 0.3640 - val_accuracy: 0.8742\n",
            "Epoch 18/30\n",
            "20000/20000 - 32s - loss: 0.1035 - accuracy: 0.9595 - val_loss: 0.3887 - val_accuracy: 0.8733\n",
            "Epoch 19/30\n",
            "20000/20000 - 32s - loss: 0.1034 - accuracy: 0.9608 - val_loss: 0.3768 - val_accuracy: 0.8764\n",
            "Epoch 20/30\n",
            "20000/20000 - 32s - loss: 0.0952 - accuracy: 0.9635 - val_loss: 0.4165 - val_accuracy: 0.8720\n",
            "Epoch 21/30\n",
            "20000/20000 - 32s - loss: 0.0905 - accuracy: 0.9635 - val_loss: 0.4265 - val_accuracy: 0.8721\n",
            "Epoch 22/30\n",
            "20000/20000 - 32s - loss: 0.0937 - accuracy: 0.9642 - val_loss: 0.3929 - val_accuracy: 0.8763\n",
            "Epoch 23/30\n",
            "20000/20000 - 32s - loss: 0.0839 - accuracy: 0.9673 - val_loss: 0.4347 - val_accuracy: 0.8767\n",
            "Epoch 24/30\n",
            "20000/20000 - 32s - loss: 0.0844 - accuracy: 0.9654 - val_loss: 0.4118 - val_accuracy: 0.8760\n",
            "Epoch 25/30\n",
            "20000/20000 - 32s - loss: 0.0775 - accuracy: 0.9708 - val_loss: 0.4295 - val_accuracy: 0.8735\n",
            "Epoch 26/30\n",
            "20000/20000 - 32s - loss: 0.0698 - accuracy: 0.9732 - val_loss: 0.4710 - val_accuracy: 0.8749\n",
            "Epoch 27/30\n",
            "20000/20000 - 32s - loss: 0.0744 - accuracy: 0.9717 - val_loss: 0.4474 - val_accuracy: 0.8740\n",
            "Epoch 28/30\n",
            "20000/20000 - 32s - loss: 0.0736 - accuracy: 0.9718 - val_loss: 0.4444 - val_accuracy: 0.8742\n",
            "Epoch 29/30\n",
            "20000/20000 - 32s - loss: 0.0676 - accuracy: 0.9748 - val_loss: 0.4489 - val_accuracy: 0.8693\n",
            "Epoch 30/30\n",
            "20000/20000 - 31s - loss: 0.0677 - accuracy: 0.9752 - val_loss: 0.4777 - val_accuracy: 0.8732\n",
            "Training Complete\n"
          ],
          "name": "stdout"
        }
      ]
    },
    {
      "cell_type": "code",
      "metadata": {
        "id": "-x_AGkHSUY94",
        "colab_type": "code",
        "colab": {
          "base_uri": "https://localhost:8080/",
          "height": 590
        },
        "outputId": "ab88a8c0-df6f-4858-fe09-2d406b3fef8c"
      },
      "source": [
        "plot_metrics(history)"
      ],
      "execution_count": 30,
      "outputs": [
        {
          "output_type": "display_data",
          "data": {
            "image/png": "[encoded data removed]",
            "text/plain": [
              "<Figure size 432x288 with 1 Axes>"
            ]
          },
          "metadata": {
            "tags": []
          }
        },
        {
          "output_type": "display_data",
          "data": {
            "image/png": "[encoded data removed]",
            "text/plain": [
              "<Figure size 432x288 with 1 Axes>"
            ]
          },
          "metadata": {
            "tags": []
          }
        },
        {
          "output_type": "display_data",
          "data": {
            "text/plain": [
              "<Figure size 432x288 with 0 Axes>"
            ]
          },
          "metadata": {
            "tags": []
          }
        }
      ]
    },
    {
      "cell_type": "code",
      "metadata": {
        "id": "gGxzP-jTY2fQ",
        "colab_type": "code",
        "colab": {}
      },
      "source": [
        ""
      ],
      "execution_count": 0,
      "outputs": []
    }
  ]
}